{
 "cells": [
  {
   "cell_type": "code",
   "execution_count": 1,
   "metadata": {},
   "outputs": [
    {
     "name": "stderr",
     "output_type": "stream",
     "text": [
      "/usr/local/lib/python3.5/dist-packages/h5py/__init__.py:36: FutureWarning: Conversion of the second argument of issubdtype from `float` to `np.floating` is deprecated. In future, it will be treated as `np.float64 == np.dtype(float).type`.\n",
      "  from ._conv import register_converters as _register_converters\n"
     ]
    }
   ],
   "source": [
    "import os\n",
    "\n",
    "from tensorflow.python.keras.applications import ResNet50\n",
    "from tensorflow.python.keras.models import Sequential\n",
    "from tensorflow.python.keras.layers import Dense, Flatten, GlobalAveragePooling2D\n",
    "\n",
    "from tensorflow.python.keras.applications.resnet50 import preprocess_input\n",
    "from tensorflow.python.keras.preprocessing.image import ImageDataGenerator"
   ]
  },
  {
   "cell_type": "code",
   "execution_count": 3,
   "metadata": {},
   "outputs": [],
   "source": [
    "#reset default graph\n",
    "os.environ['TF_CPP_MIN_LOG_LEVEL'] = '3' #to eliminate all the warning and loaded library messageos.environ['TF_CPP_MIN_LOG_LEVEL'] = '3'\n",
    "\n",
    "IMG_SIZE = 224\n",
    "num_classes = 2\n",
    "resnet_weight_paths = 'resnet50_weights_tf_dim_ordering_tf_kernels_notop.h5'\n",
    "SAVE_MODEL = 'catvsdog_trainedmodel.h5'"
   ]
  },
  {
   "cell_type": "code",
   "execution_count": 4,
   "metadata": {},
   "outputs": [
    {
     "name": "stdout",
     "output_type": "stream",
     "text": [
      "Found 25000 images belonging to 2 classes.\n",
      "Found 2111 images belonging to 2 classes.\n",
      "Epoch 1/7\n",
      "3/3 [==============================] - 42s 14s/step - loss: 0.6107 - acc: 0.6667 - val_loss: 0.5266 - val_acc: 0.7500\n",
      "Epoch 2/7\n",
      "3/3 [==============================] - 35s 12s/step - loss: 0.4987 - acc: 0.7500 - val_loss: 0.2767 - val_acc: 0.9062\n",
      "Epoch 3/7\n",
      "3/3 [==============================] - 35s 12s/step - loss: 0.3844 - acc: 0.8333 - val_loss: 0.2825 - val_acc: 0.8750\n",
      "Epoch 4/7\n",
      "3/3 [==============================] - 35s 12s/step - loss: 0.3565 - acc: 0.8611 - val_loss: 0.3085 - val_acc: 0.9062\n",
      "Epoch 5/7\n",
      "3/3 [==============================] - 37s 12s/step - loss: 0.2253 - acc: 0.9167 - val_loss: 0.1810 - val_acc: 0.9062\n",
      "Epoch 6/7\n",
      "3/3 [==============================] - 35s 12s/step - loss: 0.1973 - acc: 0.9722 - val_loss: 0.2485 - val_acc: 0.9062\n",
      "Epoch 7/7\n",
      "3/3 [==============================] - 38s 13s/step - loss: 0.2950 - acc: 0.8611 - val_loss: 0.2549 - val_acc: 0.9375\n"
     ]
    },
    {
     "data": {
      "text/plain": [
       "<tensorflow.python.keras._impl.keras.callbacks.History at 0x7fb1f8ae2940>"
      ]
     },
     "execution_count": 4,
     "metadata": {},
     "output_type": "execute_result"
    }
   ],
   "source": [
    "new_model = Sequential()\n",
    "\n",
    "new_model.add(ResNet50(include_top=False,\n",
    "\t\t\t\tpooling='avg',\n",
    "\t\t\t\tweights=resnet_weight_paths))\n",
    "\n",
    "new_model.add(Dense(num_classes,activation = 'softmax'))\n",
    "\n",
    "#not to train first layer (ResNet) model. It is already trained\n",
    "\n",
    "new_model.layers[0].trainable = False\n",
    "\n",
    "#now compile the model\n",
    "new_model.compile(optimizer='sgd',loss='categorical_crossentropy',metrics=['accuracy'])\n",
    "\n",
    "#Fit model\n",
    "data_generator = ImageDataGenerator()\n",
    "\n",
    "train_generator = data_generator.flow_from_directory(\n",
    "\t'/media/madhi/347b8fa1-b2fa-499a-a0da-3dc2835341ac/madhi/Documents/python programs/intern/signzy/Assignment_2/kagglecatsanddogs_3367a/PetImages',\n",
    "\ttarget_size = (IMG_SIZE,IMG_SIZE),\n",
    "\tbatch_size = 12,\n",
    "\tclass_mode = 'categorical'\n",
    "\t)\n",
    "\n",
    "validation_generator = data_generator.flow_from_directory(\n",
    "\t'/media/madhi/347b8fa1-b2fa-499a-a0da-3dc2835341ac/madhi/Documents/python programs/intern/signzy/Assignment_2/validation_set',\n",
    "\ttarget_size = (IMG_SIZE,IMG_SIZE),\n",
    "\tclass_mode = 'categorical'\n",
    "\t)\n",
    "\n",
    "#compile the model\n",
    "\n",
    "new_model.fit_generator(\n",
    "\ttrain_generator,\n",
    "\tsteps_per_epoch = 3,\n",
    "\tepochs=7,\n",
    "\tvalidation_data = validation_generator,\n",
    "\tvalidation_steps = 1\n",
    ")\n"
   ]
  },
  {
   "cell_type": "code",
   "execution_count": 5,
   "metadata": {},
   "outputs": [],
   "source": [
    "import matplotlib.pyplot as plt \n",
    "import os\n",
    "import cv2\n",
    "import numpy as np \n",
    "\n",
    "from random import shuffle"
   ]
  },
  {
   "cell_type": "code",
   "execution_count": 43,
   "metadata": {},
   "outputs": [],
   "source": [
    "#convert the test data into numpy array to compute\n",
    "def process_test_data(TESTING_DATA):\n",
    "\ttest_data_path  = './test_data'\n",
    "\ttesting_data = []\n",
    "\n",
    "\tfor img in TESTING_DATA:\n",
    "\t\tpath = \"{data_path}/{image}\".format(data_path=test_data_path,image=img)\n",
    "\t\timg_num = img.split('.')[0]\n",
    "\t\timg = cv2.imread(path)\n",
    "\t\timg = cv2.resize(img,(IMG_SIZ,IMG_SIZ),3)\n",
    "\t\ttesting_data.append([np.array(img),img_num])\n",
    "\n",
    "\tshuffle(testing_data)\n",
    "\tnp.save('testing_data.npy',testing_data)\n",
    "\n",
    "\treturn testing_data"
   ]
  },
  {
   "cell_type": "code",
   "execution_count": 44,
   "metadata": {},
   "outputs": [],
   "source": [
    "IMG_SIZ = 224\n",
    "DATA_PATH = os.listdir('./test_data')\n",
    "\n",
    "test_data = process_test_data(DATA_PATH)\n",
    "test_data = np.load('testing_data.npy')"
   ]
  },
  {
   "cell_type": "code",
   "execution_count": 58,
   "metadata": {
    "scrolled": true
   },
   "outputs": [
    {
     "data": {
      "text/plain": [
       "<Figure size 432x288 with 0 Axes>"
      ]
     },
     "metadata": {},
     "output_type": "display_data"
    }
   ],
   "source": [
    "import matplotlib.pyplot as plt\n",
    "fig=plt.figure()\n",
    "\n",
    "result = []\n",
    "for num,data in enumerate(test_data):\n",
    "    \n",
    "\timg_num = data[1]\n",
    "\timg_data = data[0]\n",
    "\torig = img_data\n",
    "\tdata = img_data.reshape(1,IMG_SIZ,IMG_SIZ,3)\n",
    "\n",
    "\t#predict the model\n",
    "\tmodel_out = new_model.predict_classes([data])[0]\n",
    "\tresult.append(model_out)"
   ]
  },
  {
   "cell_type": "code",
   "execution_count": 59,
   "metadata": {},
   "outputs": [
    {
     "data": {
      "text/plain": [
       "[1,\n",
       " 1,\n",
       " 1,\n",
       " 1,\n",
       " 0,\n",
       " 0,\n",
       " 1,\n",
       " 0,\n",
       " 0,\n",
       " 1,\n",
       " 0,\n",
       " 0,\n",
       " 0,\n",
       " 1,\n",
       " 0,\n",
       " 1,\n",
       " 0,\n",
       " 0,\n",
       " 0,\n",
       " 0,\n",
       " 1,\n",
       " 1,\n",
       " 1,\n",
       " 0,\n",
       " 1,\n",
       " 1,\n",
       " 0,\n",
       " 0,\n",
       " 1]"
      ]
     },
     "execution_count": 59,
     "metadata": {},
     "output_type": "execute_result"
    }
   ],
   "source": [
    "result  #[1=>Dog, 0=>cat]"
   ]
  },
  {
   "cell_type": "code",
   "execution_count": null,
   "metadata": {},
   "outputs": [],
   "source": []
  }
 ],
 "metadata": {
  "kernelspec": {
   "display_name": "Python 3",
   "language": "python",
   "name": "python3"
  },
  "language_info": {
   "codemirror_mode": {
    "name": "ipython",
    "version": 3
   },
   "file_extension": ".py",
   "mimetype": "text/x-python",
   "name": "python",
   "nbconvert_exporter": "python",
   "pygments_lexer": "ipython3",
   "version": "3.5.2"
  }
 },
 "nbformat": 4,
 "nbformat_minor": 2
}
